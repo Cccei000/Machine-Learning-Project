{
 "cells": [
  {
   "cell_type": "code",
   "execution_count": 1,
   "metadata": {
    "colab": {
     "base_uri": "https://localhost:8080/",
     "height": 121
    },
    "colab_type": "code",
    "executionInfo": {
     "elapsed": 26956,
     "status": "ok",
     "timestamp": 1559094735134,
     "user": {
      "displayName": "Icarus Icarus",
      "photoUrl": "https://lh4.googleusercontent.com/-NPcHnnI5ZgE/AAAAAAAAAAI/AAAAAAAAABY/o6lhfXd-390/s64/photo.jpg",
      "userId": "01984553358596838355"
     },
     "user_tz": -480
    },
    "id": "f57ochJLRhl0",
    "outputId": "7800ace7-f96b-40cb-f757-52756298147b"
   },
   "outputs": [
    {
     "name": "stdout",
     "output_type": "stream",
     "text": [
      "Go to this URL in a browser: https://accounts.google.com/o/oauth2/auth?client_id=947318989803-6bn6qk8qdgf4n4g3pfee6491hc0brc4i.apps.googleusercontent.com&redirect_uri=urn%3Aietf%3Awg%3Aoauth%3A2.0%3Aoob&scope=email%20https%3A%2F%2Fwww.googleapis.com%2Fauth%2Fdocs.test%20https%3A%2F%2Fwww.googleapis.com%2Fauth%2Fdrive%20https%3A%2F%2Fwww.googleapis.com%2Fauth%2Fdrive.photos.readonly%20https%3A%2F%2Fwww.googleapis.com%2Fauth%2Fpeopleapi.readonly&response_type=code\n",
      "\n",
      "Enter your authorization code:\n",
      "··········\n",
      "Mounted at /content/gdrive\n"
     ]
    }
   ],
   "source": [
    "from google.colab import drive\n",
    "drive.mount('/content/gdrive')"
   ]
  },
  {
   "cell_type": "code",
   "execution_count": 2,
   "metadata": {
    "colab": {
     "base_uri": "https://localhost:8080/",
     "height": 34
    },
    "colab_type": "code",
    "executionInfo": {
     "elapsed": 1830,
     "status": "ok",
     "timestamp": 1559094739856,
     "user": {
      "displayName": "Icarus Icarus",
      "photoUrl": "https://lh4.googleusercontent.com/-NPcHnnI5ZgE/AAAAAAAAAAI/AAAAAAAAABY/o6lhfXd-390/s64/photo.jpg",
      "userId": "01984553358596838355"
     },
     "user_tz": -480
    },
    "id": "K9qEYp8qRJW4",
    "outputId": "51967665-695d-4d44-f233-fee859826788"
   },
   "outputs": [
    {
     "name": "stderr",
     "output_type": "stream",
     "text": [
      "Using TensorFlow backend.\n"
     ]
    }
   ],
   "source": [
    "%matplotlib inline\n",
    "import numpy as np\n",
    "from scipy import ndimage\n",
    "from matplotlib.image import imsave\n",
    "import random\n",
    "from matplotlib import pyplot as plt\n",
    "\n",
    "import keras\n",
    "import keras.backend as K\n",
    "from keras import models\n",
    "from keras.optimizers import SGD\n",
    "from keras.utils import to_categorical\n",
    "from keras import metrics\n",
    "\n",
    "from keras.layers import Layer\n",
    "from keras.models import Model\n",
    "from keras.layers import Input\n",
    "from keras.layers.core import Activation,Reshape\n",
    "from keras.layers.convolutional import Convolution2D\n",
    "from keras.layers.normalization import BatchNormalization"
   ]
  },
  {
   "cell_type": "code",
   "execution_count": 0,
   "metadata": {
    "colab": {},
    "colab_type": "code",
    "id": "AX3QE5957-V3"
   },
   "outputs": [],
   "source": [
    "class MaxPoolingWithArgmax2D(Layer):\n",
    "    def __init__(self,pool_size = (2,2),strides = (2,2),padding = 'same',**kwargs):\n",
    "        super(MaxPoolingWithArgmax2D,self).__init__(**kwargs)\n",
    "        self.padding = padding\n",
    "        self.pool_size = pool_size\n",
    "        self.strides = strides\n",
    "\n",
    "    def call(self,inputs,**kwargs):\n",
    "        padding = self.padding\n",
    "        pool_size = self.pool_size\n",
    "        strides = self.strides\n",
    "        if K.backend() == 'tensorflow':\n",
    "            ksize = [1,pool_size[0],pool_size[1],1]\n",
    "            padding = padding.upper()\n",
    "            strides = [1,strides[0],strides[1],1]\n",
    "            output, argmax = K.tf.nn.max_pool_with_argmax(\n",
    "                    inputs,ksize = ksize,strides = strides,padding = padding)\n",
    "        else:\n",
    "            errmsg = '{} backend is not supported for layer {}'.format(\n",
    "                    K.backend(),type(self).__name__)\n",
    "            raise NotImplementedError(errmsg)\n",
    "        argmax = K.cast(argmax,K.floatx())\n",
    "        return [output,argmax]\n",
    "\n",
    "    def compute_output_shape(self,input_shape):\n",
    "        ratio = (1,2,2,1)\n",
    "        output_shape = [dim//ratio[idx] if dim is not None else None\n",
    "                for idx,dim in enumerate(input_shape)]\n",
    "        output_shape = tuple(output_shape)\n",
    "        return [output_shape,output_shape]\n",
    "\n",
    "    def compute_mask(self,inputs,mask = None):\n",
    "        return 2*[None]\n",
    "\n",
    "class MaxUnpooling2D(Layer):\n",
    "    def __init__(self,size = (2,2),**kwargs):\n",
    "        super(MaxUnpooling2D,self).__init__(**kwargs)\n",
    "        self.size = size\n",
    "\n",
    "    def call(self,inputs,output_shape = None):\n",
    "        updates,mask = inputs[0],inputs[1]\n",
    "        with K.tf.variable_scope(self.name):\n",
    "            mask = K.cast(mask,'int32')\n",
    "            input_shape = K.tf.shape(updates,out_type = 'int32')\n",
    "            #  calculation new shape\n",
    "            if output_shape is None:\n",
    "                output_shape = (input_shape[0],input_shape[1]*self.size[0],\n",
    "                        input_shape[2]*self.size[1],input_shape[3])\n",
    "            self.output_shape1 = output_shape\n",
    "\n",
    "            # calculation indices for batch, height, width and feature maps\n",
    "            one_like_mask = K.ones_like(mask,dtype = 'int32')\n",
    "            batch_shape = K.concatenate([[input_shape[0]],[1],[1],[1]],axis = 0)\n",
    "            batch_range = K.reshape(K.tf.range(output_shape[0],\n",
    "                                   dtype = 'int32'),shape = batch_shape)\n",
    "            b = one_like_mask*batch_range\n",
    "            y = mask//(output_shape[2]*output_shape[3])\n",
    "            x = (mask//output_shape[3])%output_shape[2]\n",
    "            feature_range = K.tf.range(output_shape[3],dtype = 'int32')\n",
    "            f = one_like_mask*feature_range\n",
    "\n",
    "            # transpose indices & reshape update values to one dimension\n",
    "            updates_size = K.tf.size(updates)\n",
    "            indices = K.transpose(K.reshape(K.stack([b,y,x,f]),[4,updates_size]))\n",
    "            values = K.reshape(updates,[updates_size])\n",
    "            ret = K.tf.scatter_nd(indices,values,output_shape)\n",
    "            return ret\n",
    "\n",
    "    def compute_output_shape(self,input_shape):\n",
    "        mask_shape = input_shape[1]\n",
    "        return (mask_shape[0],mask_shape[1]*self.size[0],\n",
    "                mask_shape[2]*self.size[1],mask_shape[3])"
   ]
  },
  {
   "cell_type": "code",
   "execution_count": 0,
   "metadata": {
    "colab": {},
    "colab_type": "code",
    "id": "TSjeuEgH8BKS"
   },
   "outputs": [],
   "source": [
    "def segnet(input_shape,n_labels,kernel,pool_size,output_mode):\n",
    "    # encoder\n",
    "    inputs = Input(shape = input_shape)\n",
    "\n",
    "    conv_1 = Convolution2D(64,(kernel,kernel),padding = \"same\")(inputs)\n",
    "    conv_1 = BatchNormalization()(conv_1)\n",
    "    conv_1 = Activation(\"relu\")(conv_1)\n",
    "    conv_2 = Convolution2D(64,(kernel,kernel),padding = \"same\")(conv_1)\n",
    "    conv_2 = BatchNormalization()(conv_2)\n",
    "    conv_2 = Activation(\"relu\")(conv_2)\n",
    "\n",
    "    pool_1, mask_1 = MaxPoolingWithArgmax2D(pool_size)(conv_2)\n",
    "\n",
    "    conv_3 = Convolution2D(128,(kernel,kernel),padding = \"same\")(pool_1)\n",
    "    conv_3 = BatchNormalization()(conv_3)\n",
    "    conv_3 = Activation(\"relu\")(conv_3)\n",
    "    conv_4 = Convolution2D(128,(kernel,kernel),padding = \"same\")(conv_3)\n",
    "    conv_4 = BatchNormalization()(conv_4)\n",
    "    conv_4 = Activation(\"relu\")(conv_4)\n",
    "\n",
    "    pool_2, mask_2 = MaxPoolingWithArgmax2D(pool_size)(conv_4)\n",
    "\n",
    "    conv_5 = Convolution2D(256,(kernel,kernel),padding = \"same\")(pool_2)\n",
    "    conv_5 = BatchNormalization()(conv_5)\n",
    "    conv_5 = Activation(\"relu\")(conv_5)\n",
    "    conv_6 = Convolution2D(256,(kernel,kernel),padding = \"same\")(conv_5)\n",
    "    conv_6 = BatchNormalization()(conv_6)\n",
    "    conv_6 = Activation(\"relu\")(conv_6)\n",
    "    conv_7 = Convolution2D(256,(kernel,kernel),padding = \"same\")(conv_6)\n",
    "    conv_7 = BatchNormalization()(conv_7)\n",
    "    conv_7 = Activation(\"relu\")(conv_7)\n",
    "\n",
    "    pool_3, mask_3 = MaxPoolingWithArgmax2D(pool_size)(conv_7)\n",
    "\n",
    "    conv_8 = Convolution2D(512,(kernel,kernel),padding = \"same\")(pool_3)\n",
    "    conv_8 = BatchNormalization()(conv_8)\n",
    "    conv_8 = Activation(\"relu\")(conv_8)\n",
    "    conv_9 = Convolution2D(512,(kernel,kernel),padding = \"same\")(conv_8)\n",
    "    conv_9 = BatchNormalization()(conv_9)\n",
    "    conv_9 = Activation(\"relu\")(conv_9)\n",
    "    conv_10 = Convolution2D(512,(kernel,kernel),padding = \"same\")(conv_9)\n",
    "    conv_10 = BatchNormalization()(conv_10)\n",
    "    conv_10 = Activation(\"relu\")(conv_10)\n",
    "\n",
    "    pool_4, mask_4 = MaxPoolingWithArgmax2D(pool_size)(conv_10)\n",
    "\n",
    "    conv_11 = Convolution2D(512,(kernel,kernel),padding = \"same\")(pool_4)\n",
    "    conv_11 = BatchNormalization()(conv_11)\n",
    "    conv_11 = Activation(\"relu\")(conv_11)\n",
    "    conv_12 = Convolution2D(512,(kernel,kernel),padding = \"same\")(conv_11)\n",
    "    conv_12 = BatchNormalization()(conv_12)\n",
    "    conv_12 = Activation(\"relu\")(conv_12)\n",
    "    conv_13 = Convolution2D(512,(kernel,kernel),padding = \"same\")(conv_12)\n",
    "    conv_13 = BatchNormalization()(conv_13)\n",
    "    conv_13 = Activation(\"relu\")(conv_13)\n",
    "\n",
    "    pool_5, mask_5 = MaxPoolingWithArgmax2D(pool_size)(conv_13)\n",
    "    print(\"Build enceder done..\")\n",
    "\n",
    "    # decoder\n",
    "\n",
    "    unpool_1 = MaxUnpooling2D(pool_size)([pool_5,mask_5])\n",
    "\n",
    "    conv_14 = Convolution2D(512,(kernel,kernel),padding = \"same\")(unpool_1)\n",
    "    conv_14 = BatchNormalization()(conv_14)\n",
    "    conv_14 = Activation(\"relu\")(conv_14)\n",
    "    conv_15 = Convolution2D(512,(kernel,kernel),padding = \"same\")(conv_14)\n",
    "    conv_15 = BatchNormalization()(conv_15)\n",
    "    conv_15 = Activation(\"relu\")(conv_15)\n",
    "    conv_16 = Convolution2D(512,(kernel,kernel),padding = \"same\")(conv_15)\n",
    "    conv_16 = BatchNormalization()(conv_16)\n",
    "    conv_16 = Activation(\"relu\")(conv_16)\n",
    "\n",
    "    unpool_2 = MaxUnpooling2D(pool_size)([conv_16,mask_4])\n",
    "\n",
    "    conv_17 = Convolution2D(512,(kernel,kernel),padding = \"same\")(unpool_2)\n",
    "    conv_17 = BatchNormalization()(conv_17)\n",
    "    conv_17 = Activation(\"relu\")(conv_17)\n",
    "    conv_18 = Convolution2D(512,(kernel,kernel),padding = \"same\")(conv_17)\n",
    "    conv_18 = BatchNormalization()(conv_18)\n",
    "    conv_18 = Activation(\"relu\")(conv_18)\n",
    "    conv_19 = Convolution2D(256,(kernel,kernel),padding = \"same\")(conv_18)\n",
    "    conv_19 = BatchNormalization()(conv_19)\n",
    "    conv_19 = Activation(\"relu\")(conv_19)\n",
    "\n",
    "    unpool_3 = MaxUnpooling2D(pool_size)([conv_19,mask_3])\n",
    "\n",
    "    conv_20 = Convolution2D(256,(kernel, kernel),padding = \"same\")(unpool_3)\n",
    "    conv_20 = BatchNormalization()(conv_20)\n",
    "    conv_20 = Activation(\"relu\")(conv_20)\n",
    "    conv_21 = Convolution2D(256,(kernel, kernel),padding = \"same\")(conv_20)\n",
    "    conv_21 = BatchNormalization()(conv_21)\n",
    "    conv_21 = Activation(\"relu\")(conv_21)\n",
    "    conv_22 = Convolution2D(128,(kernel, kernel),padding = \"same\")(conv_21)\n",
    "    conv_22 = BatchNormalization()(conv_22)\n",
    "    conv_22 = Activation(\"relu\")(conv_22)\n",
    "\n",
    "    unpool_4 = MaxUnpooling2D(pool_size)([conv_22,mask_2])\n",
    "\n",
    "    conv_23 = Convolution2D(128,(kernel, kernel),padding = \"same\")(unpool_4)\n",
    "    conv_23 = BatchNormalization()(conv_23)\n",
    "    conv_23 = Activation(\"relu\")(conv_23)\n",
    "    conv_24 = Convolution2D(64,(kernel, kernel),padding = \"same\")(conv_23)\n",
    "    conv_24 = BatchNormalization()(conv_24)\n",
    "    conv_24 = Activation(\"relu\")(conv_24)\n",
    "\n",
    "    unpool_5 = MaxUnpooling2D(pool_size)([conv_24,mask_1])\n",
    "\n",
    "    conv_25 = Convolution2D(64,(kernel, kernel),padding = \"same\")(unpool_5)\n",
    "    conv_25 = BatchNormalization()(conv_25)\n",
    "    conv_25 = Activation(\"relu\")(conv_25)\n",
    "\n",
    "    conv_26 = Convolution2D(n_labels,(1,1),padding = \"valid\")(conv_25)\n",
    "    conv_26 = BatchNormalization()(conv_26)\n",
    "    conv_26 = Reshape(\n",
    "            (input_shape[0]*input_shape[1],n_labels),\n",
    "            input_shape = (input_shape[0],input_shape[1],n_labels))(conv_26)\n",
    "\n",
    "    outputs = Activation(output_mode)(conv_26)\n",
    "    print(\"Build decoder done..\")\n",
    "\n",
    "    model = Model(inputs = inputs,outputs=outputs,name = \"SegNet\")\n",
    "\n",
    "    return model"
   ]
  },
  {
   "cell_type": "code",
   "execution_count": 0,
   "metadata": {
    "colab": {},
    "colab_type": "code",
    "id": "pUNUdgmTRJXR"
   },
   "outputs": [],
   "source": [
    "def show_img(img):\n",
    "    fig = plt.figure()\n",
    "    ax2 = fig.add_subplot(111)\n",
    "    ax2.imshow(img,cmap='gray')\n",
    "    plt.show()\n",
    "\n",
    "def show_result(img):\n",
    "    img = img.reshape((img_h,img_w,-1))\n",
    "    img = np.argmax(img,axis = -1)\n",
    "    show_img(img)"
   ]
  },
  {
   "cell_type": "code",
   "execution_count": 0,
   "metadata": {
    "colab": {},
    "colab_type": "code",
    "id": "I0QG24luRJW7"
   },
   "outputs": [],
   "source": [
    "img = np.fromfile('gdrive/My Drive/Python/SegNet/data/img_float64',dtype = 'float64')\n",
    "label = np.fromfile('gdrive/My Drive/Python/SegNet/data/label_uint8',dtype = 'uint8')\n",
    "test = np.fromfile('gdrive/My Drive/Python/SegNet/data/test_float64',dtype = 'float64')"
   ]
  },
  {
   "cell_type": "code",
   "execution_count": 0,
   "metadata": {
    "colab": {},
    "colab_type": "code",
    "id": "pIWYIhVdRJW-"
   },
   "outputs": [],
   "source": [
    "img_h = 256\n",
    "img_w = 256\n",
    "\n",
    "train_img = img.reshape(-1,img_h,img_w,1)\n",
    "test_img = test.reshape(-1,img_h,img_w,1)"
   ]
  },
  {
   "cell_type": "code",
   "execution_count": 0,
   "metadata": {
    "colab": {},
    "colab_type": "code",
    "id": "ZCurA0UekvaE"
   },
   "outputs": [],
   "source": [
    "train_label = label.reshape(-1,img_h*img_w,1)\n",
    "train_label = to_categorical(train_label)"
   ]
  },
  {
   "cell_type": "code",
   "execution_count": 9,
   "metadata": {
    "colab": {
     "base_uri": "https://localhost:8080/",
     "height": 67
    },
    "colab_type": "code",
    "executionInfo": {
     "elapsed": 17891,
     "status": "ok",
     "timestamp": 1559094765585,
     "user": {
      "displayName": "Icarus Icarus",
      "photoUrl": "https://lh4.googleusercontent.com/-NPcHnnI5ZgE/AAAAAAAAAAI/AAAAAAAAABY/o6lhfXd-390/s64/photo.jpg",
      "userId": "01984553358596838355"
     },
     "user_tz": -480
    },
    "id": "PuYCqUmfRJXA",
    "outputId": "04f69723-d0c4-4a43-e2c2-057cdf0032ae"
   },
   "outputs": [
    {
     "name": "stdout",
     "output_type": "stream",
     "text": [
      "(2292, 256, 256, 1) float64\n",
      "(2292, 65536, 2) float32\n",
      "(200, 256, 256, 1) float64\n"
     ]
    }
   ],
   "source": [
    "print(train_img.shape,train_img.dtype)\n",
    "print(train_label.shape,train_label.dtype)\n",
    "print(test_img.shape,test_img.dtype)"
   ]
  },
  {
   "cell_type": "code",
   "execution_count": 10,
   "metadata": {
    "colab": {
     "base_uri": "https://localhost:8080/",
     "height": 269
    },
    "colab_type": "code",
    "executionInfo": {
     "elapsed": 16300,
     "status": "ok",
     "timestamp": 1559094765586,
     "user": {
      "displayName": "Icarus Icarus",
      "photoUrl": "https://lh4.googleusercontent.com/-NPcHnnI5ZgE/AAAAAAAAAAI/AAAAAAAAABY/o6lhfXd-390/s64/photo.jpg",
      "userId": "01984553358596838355"
     },
     "user_tz": -480
    },
    "id": "Bj0Q3rjulIZd",
    "outputId": "a0a338e7-9569-4a5c-999a-9e6a2beeeb7c"
   },
   "outputs": [
    {
     "data": {
      "image/png": "[encoded data removed]",
      "text/plain": [
       "<Figure size 432x288 with 1 Axes>"
      ]
     },
     "metadata": {
      "tags": []
     },
     "output_type": "display_data"
    }
   ],
   "source": [
    "show_img(test_img[0].reshape(256,256))"
   ]
  },
  {
   "cell_type": "code",
   "execution_count": 0,
   "metadata": {
    "colab": {},
    "colab_type": "code",
    "id": "NC6ZFHk2fTkc"
   },
   "outputs": [],
   "source": [
    "def save_img(img,path):\n",
    "    result = img.reshape((img_h,img_w,-1))\n",
    "    result = np.argmax(result,axis = -1)\n",
    "    result = ndimage.zoom(result,(480/img_h,640/img_w))\n",
    "    imsave(path,result,cmap = 'gray')"
   ]
  },
  {
   "cell_type": "code",
   "execution_count": 0,
   "metadata": {
    "colab": {},
    "colab_type": "code",
    "id": "iizhrBbhSLoz"
   },
   "outputs": [],
   "source": [
    "def dice(gt,pd):\n",
    "    hits = K.sum(K.abs(K.round(pd)-gt))\n",
    "    return hits/(img_h*img_w)"
   ]
  },
  {
   "cell_type": "code",
   "execution_count": 13,
   "metadata": {
    "colab": {
     "base_uri": "https://localhost:8080/",
     "height": 121
    },
    "colab_type": "code",
    "executionInfo": {
     "elapsed": 13300,
     "status": "ok",
     "timestamp": 1559069375107,
     "user": {
      "displayName": "Icarus Icarus",
      "photoUrl": "https://lh4.googleusercontent.com/-NPcHnnI5ZgE/AAAAAAAAAAI/AAAAAAAAABY/o6lhfXd-390/s64/photo.jpg",
      "userId": "01984553358596838355"
     },
     "user_tz": -480
    },
    "id": "xJ4xd9Q-RJXE",
    "outputId": "65b4b182-cddf-4cfd-e066-70a4f6014f83",
    "scrolled": true
   },
   "outputs": [
    {
     "name": "stdout",
     "output_type": "stream",
     "text": [
      "WARNING:tensorflow:From /usr/local/lib/python3.6/dist-packages/tensorflow/python/framework/op_def_library.py:263: colocate_with (from tensorflow.python.framework.ops) is deprecated and will be removed in a future version.\n",
      "Instructions for updating:\n",
      "Colocations handled automatically by placer.\n",
      "Build enceder done..\n",
      "Build decoder done..\n"
     ]
    }
   ],
   "source": [
    "'''\n",
    "with open('gdrive/My Drive/Python/SegNet/model_5l.json') as model_file:\n",
    "    autoencoder = models.model_from_json(model_file.read())\n",
    "'''\n",
    "autoencoder = segnet((256,256,1),2,3, (2,2),\"softmax\")\n",
    "#autoencoder.load_weights('gdrive/My Drive/Python/SegNet/model_5l_v2_ADAM_weight_ep10.hdf5')\n",
    "\n",
    "#optimizer = SGD(lr = 0.001,momentum = 0.9,decay = 0.0005,nesterov = False)\n",
    "optimizer = keras.optimizers.Adam(lr=0.001, beta_1=0.9, beta_2=0.999, epsilon=None, decay=0.0, amsgrad=False)\n",
    "autoencoder.compile(loss = 'categorical_crossentropy',optimizer = \"adadelta\",metrics = ['accuracy',dice])"
   ]
  },
  {
   "cell_type": "code",
   "execution_count": 14,
   "metadata": {
    "colab": {
     "base_uri": "https://localhost:8080/",
     "height": 306
    },
    "colab_type": "code",
    "executionInfo": {
     "elapsed": 1451427,
     "status": "ok",
     "timestamp": 1559070813245,
     "user": {
      "displayName": "Icarus Icarus",
      "photoUrl": "https://lh4.googleusercontent.com/-NPcHnnI5ZgE/AAAAAAAAAAI/AAAAAAAAABY/o6lhfXd-390/s64/photo.jpg",
      "userId": "01984553358596838355"
     },
     "user_tz": -480
    },
    "id": "zZvij-UwRJXI",
    "outputId": "65fe48c6-4d54-47ec-837b-2f6779f3aa30"
   },
   "outputs": [
    {
     "name": "stdout",
     "output_type": "stream",
     "text": [
      "WARNING:tensorflow:From /usr/local/lib/python3.6/dist-packages/tensorflow/python/ops/math_ops.py:3066: to_int32 (from tensorflow.python.ops.math_ops) is deprecated and will be removed in a future version.\n",
      "Instructions for updating:\n",
      "Use tf.cast instead.\n",
      "WARNING:tensorflow:From /usr/local/lib/python3.6/dist-packages/tensorflow/python/ops/math_grad.py:102: div (from tensorflow.python.ops.math_ops) is deprecated and will be removed in a future version.\n",
      "Instructions for updating:\n",
      "Deprecated in favor of operator or tf.math.divide.\n",
      "Epoch 1/5\n",
      "2292/2292 [==============================] - 302s 132ms/step - loss: 0.4679 - acc: 0.9265 - dice: 2.3508\n",
      "Epoch 2/5\n",
      "2292/2292 [==============================] - 286s 125ms/step - loss: 0.3090 - acc: 0.9700 - dice: 0.9575\n",
      "Epoch 3/5\n",
      "2292/2292 [==============================] - 282s 123ms/step - loss: 0.2220 - acc: 0.9776 - dice: 0.7152\n",
      "Epoch 4/5\n",
      "2292/2292 [==============================] - 282s 123ms/step - loss: 0.1637 - acc: 0.9815 - dice: 0.5929\n",
      "Epoch 5/5\n",
      "2292/2292 [==============================] - 281s 123ms/step - loss: 0.1237 - acc: 0.9839 - dice: 0.5157\n"
     ]
    }
   ],
   "source": [
    "nb_epoch = 5\n",
    "batch_size = 16\n",
    "history = autoencoder.fit(train_img,train_label,batch_size = batch_size,\n",
    "                          shuffle = True,epochs = nb_epoch,verbose = 1)"
   ]
  },
  {
   "cell_type": "code",
   "execution_count": 15,
   "metadata": {
    "colab": {
     "base_uri": "https://localhost:8080/",
     "height": 34
    },
    "colab_type": "code",
    "executionInfo": {
     "elapsed": 1485774,
     "status": "ok",
     "timestamp": 1559070847603,
     "user": {
      "displayName": "Icarus Icarus",
      "photoUrl": "https://lh4.googleusercontent.com/-NPcHnnI5ZgE/AAAAAAAAAAI/AAAAAAAAABY/o6lhfXd-390/s64/photo.jpg",
      "userId": "01984553358596838355"
     },
     "user_tz": -480
    },
    "id": "8_PZdo9bRJXs",
    "outputId": "547601b7-f14b-4421-febb-bdcde5b9f513"
   },
   "outputs": [
    {
     "name": "stdout",
     "output_type": "stream",
     "text": [
      "200/200 [==============================] - 19s 93ms/step\n"
     ]
    }
   ],
   "source": [
    "output = autoencoder.predict(test_img,verbose = 1)\n",
    "output = output.reshape((output.shape[0],img_h,img_w,-1))\n",
    "for i in range(200):\n",
    "    save_img(output[i],'gdrive/My Drive/Python/SegNet/results/model_5l_v2_adadelta_weight_ep5/'+str(i)+'.png')"
   ]
  },
  {
   "cell_type": "code",
   "execution_count": 16,
   "metadata": {
    "colab": {
     "base_uri": "https://localhost:8080/",
     "height": 269
    },
    "colab_type": "code",
    "executionInfo": {
     "elapsed": 1485765,
     "status": "ok",
     "timestamp": 1559070847605,
     "user": {
      "displayName": "Icarus Icarus",
      "photoUrl": "https://lh4.googleusercontent.com/-NPcHnnI5ZgE/AAAAAAAAAAI/AAAAAAAAABY/o6lhfXd-390/s64/photo.jpg",
      "userId": "01984553358596838355"
     },
     "user_tz": -480
    },
    "id": "HyvpBpAlX0qB",
    "outputId": "e75e9f6e-2baf-4be2-ac23-fd4577225dfe"
   },
   "outputs": [
    {
     "data": {
      "image/png": "[encoded data removed]",
      "text/plain": [
       "<Figure size 432x288 with 1 Axes>"
      ]
     },
     "metadata": {
      "tags": []
     },
     "output_type": "display_data"
    }
   ],
   "source": [
    "show_result(output[0])"
   ]
  },
  {
   "cell_type": "code",
   "execution_count": 0,
   "metadata": {
    "colab": {},
    "colab_type": "code",
    "id": "MrH70SWgRJXL"
   },
   "outputs": [],
   "source": [
    "autoencoder.save_weights('gdrive/My Drive/Python/SegNet/results/model_5l_v2_ADAM_weight_ep5/model_5l_v2_ADAM_weight_ep5.hdf5')"
   ]
  },
  {
   "cell_type": "code",
   "execution_count": 14,
   "metadata": {
    "colab": {
     "base_uri": "https://localhost:8080/",
     "height": 3259
    },
    "colab_type": "code",
    "executionInfo": {
     "elapsed": 1159,
     "status": "ok",
     "timestamp": 1559060980044,
     "user": {
      "displayName": "Icarus Icarus",
      "photoUrl": "https://lh4.googleusercontent.com/-NPcHnnI5ZgE/AAAAAAAAAAI/AAAAAAAAABY/o6lhfXd-390/s64/photo.jpg",
      "userId": "01984553358596838355"
     },
     "user_tz": -480
    },
    "id": "PyAfPuAYHLsA",
    "outputId": "bfb58ff0-a06a-43cc-8954-08a457cc8c24"
   },
   "outputs": [
    {
     "name": "stdout",
     "output_type": "stream",
     "text": [
      "__________________________________________________________________________________________________\n",
      "Layer (type)                    Output Shape         Param #     Connected to                     \n",
      "==================================================================================================\n",
      "input_1 (InputLayer)            (None, 256, 256, 1)  0                                            \n",
      "__________________________________________________________________________________________________\n",
      "conv2d_1 (Conv2D)               (None, 256, 256, 64) 640         input_1[0][0]                    \n",
      "__________________________________________________________________________________________________\n",
      "batch_normalization_1 (BatchNor (None, 256, 256, 64) 256         conv2d_1[0][0]                   \n",
      "__________________________________________________________________________________________________\n",
      "activation_1 (Activation)       (None, 256, 256, 64) 0           batch_normalization_1[0][0]      \n",
      "__________________________________________________________________________________________________\n",
      "conv2d_2 (Conv2D)               (None, 256, 256, 64) 36928       activation_1[0][0]               \n",
      "__________________________________________________________________________________________________\n",
      "batch_normalization_2 (BatchNor (None, 256, 256, 64) 256         conv2d_2[0][0]                   \n",
      "__________________________________________________________________________________________________\n",
      "activation_2 (Activation)       (None, 256, 256, 64) 0           batch_normalization_2[0][0]      \n",
      "__________________________________________________________________________________________________\n",
      "max_pooling_with_argmax2d_1 (Ma [(None, 128, 128, 64 0           activation_2[0][0]               \n",
      "__________________________________________________________________________________________________\n",
      "conv2d_3 (Conv2D)               (None, 128, 128, 128 73856       max_pooling_with_argmax2d_1[0][0]\n",
      "__________________________________________________________________________________________________\n",
      "batch_normalization_3 (BatchNor (None, 128, 128, 128 512         conv2d_3[0][0]                   \n",
      "__________________________________________________________________________________________________\n",
      "activation_3 (Activation)       (None, 128, 128, 128 0           batch_normalization_3[0][0]      \n",
      "__________________________________________________________________________________________________\n",
      "conv2d_4 (Conv2D)               (None, 128, 128, 128 147584      activation_3[0][0]               \n",
      "__________________________________________________________________________________________________\n",
      "batch_normalization_4 (BatchNor (None, 128, 128, 128 512         conv2d_4[0][0]                   \n",
      "__________________________________________________________________________________________________\n",
      "activation_4 (Activation)       (None, 128, 128, 128 0           batch_normalization_4[0][0]      \n",
      "__________________________________________________________________________________________________\n",
      "max_pooling_with_argmax2d_2 (Ma [(None, 64, 64, 128) 0           activation_4[0][0]               \n",
      "__________________________________________________________________________________________________\n",
      "conv2d_5 (Conv2D)               (None, 64, 64, 256)  295168      max_pooling_with_argmax2d_2[0][0]\n",
      "__________________________________________________________________________________________________\n",
      "batch_normalization_5 (BatchNor (None, 64, 64, 256)  1024        conv2d_5[0][0]                   \n",
      "__________________________________________________________________________________________________\n",
      "activation_5 (Activation)       (None, 64, 64, 256)  0           batch_normalization_5[0][0]      \n",
      "__________________________________________________________________________________________________\n",
      "conv2d_6 (Conv2D)               (None, 64, 64, 256)  590080      activation_5[0][0]               \n",
      "__________________________________________________________________________________________________\n",
      "batch_normalization_6 (BatchNor (None, 64, 64, 256)  1024        conv2d_6[0][0]                   \n",
      "__________________________________________________________________________________________________\n",
      "activation_6 (Activation)       (None, 64, 64, 256)  0           batch_normalization_6[0][0]      \n",
      "__________________________________________________________________________________________________\n",
      "conv2d_7 (Conv2D)               (None, 64, 64, 256)  590080      activation_6[0][0]               \n",
      "__________________________________________________________________________________________________\n",
      "batch_normalization_7 (BatchNor (None, 64, 64, 256)  1024        conv2d_7[0][0]                   \n",
      "__________________________________________________________________________________________________\n",
      "activation_7 (Activation)       (None, 64, 64, 256)  0           batch_normalization_7[0][0]      \n",
      "__________________________________________________________________________________________________\n",
      "max_pooling_with_argmax2d_3 (Ma [(None, 32, 32, 256) 0           activation_7[0][0]               \n",
      "__________________________________________________________________________________________________\n",
      "conv2d_8 (Conv2D)               (None, 32, 32, 512)  1180160     max_pooling_with_argmax2d_3[0][0]\n",
      "__________________________________________________________________________________________________\n",
      "batch_normalization_8 (BatchNor (None, 32, 32, 512)  2048        conv2d_8[0][0]                   \n",
      "__________________________________________________________________________________________________\n",
      "activation_8 (Activation)       (None, 32, 32, 512)  0           batch_normalization_8[0][0]      \n",
      "__________________________________________________________________________________________________\n",
      "conv2d_9 (Conv2D)               (None, 32, 32, 512)  2359808     activation_8[0][0]               \n",
      "__________________________________________________________________________________________________\n",
      "batch_normalization_9 (BatchNor (None, 32, 32, 512)  2048        conv2d_9[0][0]                   \n",
      "__________________________________________________________________________________________________\n",
      "activation_9 (Activation)       (None, 32, 32, 512)  0           batch_normalization_9[0][0]      \n",
      "__________________________________________________________________________________________________\n",
      "conv2d_10 (Conv2D)              (None, 32, 32, 512)  2359808     activation_9[0][0]               \n",
      "__________________________________________________________________________________________________\n",
      "batch_normalization_10 (BatchNo (None, 32, 32, 512)  2048        conv2d_10[0][0]                  \n",
      "__________________________________________________________________________________________________\n",
      "activation_10 (Activation)      (None, 32, 32, 512)  0           batch_normalization_10[0][0]     \n",
      "__________________________________________________________________________________________________\n",
      "max_pooling_with_argmax2d_4 (Ma [(None, 16, 16, 512) 0           activation_10[0][0]              \n",
      "__________________________________________________________________________________________________\n",
      "conv2d_11 (Conv2D)              (None, 16, 16, 512)  2359808     max_pooling_with_argmax2d_4[0][0]\n",
      "__________________________________________________________________________________________________\n",
      "batch_normalization_11 (BatchNo (None, 16, 16, 512)  2048        conv2d_11[0][0]                  \n",
      "__________________________________________________________________________________________________\n",
      "activation_11 (Activation)      (None, 16, 16, 512)  0           batch_normalization_11[0][0]     \n",
      "__________________________________________________________________________________________________\n",
      "conv2d_12 (Conv2D)              (None, 16, 16, 512)  2359808     activation_11[0][0]              \n",
      "__________________________________________________________________________________________________\n",
      "batch_normalization_12 (BatchNo (None, 16, 16, 512)  2048        conv2d_12[0][0]                  \n",
      "__________________________________________________________________________________________________\n",
      "activation_12 (Activation)      (None, 16, 16, 512)  0           batch_normalization_12[0][0]     \n",
      "__________________________________________________________________________________________________\n",
      "conv2d_13 (Conv2D)              (None, 16, 16, 512)  2359808     activation_12[0][0]              \n",
      "__________________________________________________________________________________________________\n",
      "batch_normalization_13 (BatchNo (None, 16, 16, 512)  2048        conv2d_13[0][0]                  \n",
      "__________________________________________________________________________________________________\n",
      "activation_13 (Activation)      (None, 16, 16, 512)  0           batch_normalization_13[0][0]     \n",
      "__________________________________________________________________________________________________\n",
      "max_pooling_with_argmax2d_5 (Ma [(None, 8, 8, 512),  0           activation_13[0][0]              \n",
      "__________________________________________________________________________________________________\n",
      "max_unpooling2d_1 (MaxUnpooling (None, 16, 16, 512)  0           max_pooling_with_argmax2d_5[0][0]\n",
      "                                                                 max_pooling_with_argmax2d_5[0][1]\n",
      "__________________________________________________________________________________________________\n",
      "conv2d_14 (Conv2D)              (None, 16, 16, 512)  2359808     max_unpooling2d_1[0][0]          \n",
      "__________________________________________________________________________________________________\n",
      "batch_normalization_14 (BatchNo (None, 16, 16, 512)  2048        conv2d_14[0][0]                  \n",
      "__________________________________________________________________________________________________\n",
      "activation_14 (Activation)      (None, 16, 16, 512)  0           batch_normalization_14[0][0]     \n",
      "__________________________________________________________________________________________________\n",
      "conv2d_15 (Conv2D)              (None, 16, 16, 512)  2359808     activation_14[0][0]              \n",
      "__________________________________________________________________________________________________\n",
      "batch_normalization_15 (BatchNo (None, 16, 16, 512)  2048        conv2d_15[0][0]                  \n",
      "__________________________________________________________________________________________________\n",
      "activation_15 (Activation)      (None, 16, 16, 512)  0           batch_normalization_15[0][0]     \n",
      "__________________________________________________________________________________________________\n",
      "conv2d_16 (Conv2D)              (None, 16, 16, 512)  2359808     activation_15[0][0]              \n",
      "__________________________________________________________________________________________________\n",
      "batch_normalization_16 (BatchNo (None, 16, 16, 512)  2048        conv2d_16[0][0]                  \n",
      "__________________________________________________________________________________________________\n",
      "activation_16 (Activation)      (None, 16, 16, 512)  0           batch_normalization_16[0][0]     \n",
      "__________________________________________________________________________________________________\n",
      "max_unpooling2d_2 (MaxUnpooling (None, 32, 32, 512)  0           activation_16[0][0]              \n",
      "                                                                 max_pooling_with_argmax2d_4[0][1]\n",
      "__________________________________________________________________________________________________\n",
      "conv2d_17 (Conv2D)              (None, 32, 32, 512)  2359808     max_unpooling2d_2[0][0]          \n",
      "__________________________________________________________________________________________________\n",
      "batch_normalization_17 (BatchNo (None, 32, 32, 512)  2048        conv2d_17[0][0]                  \n",
      "__________________________________________________________________________________________________\n",
      "activation_17 (Activation)      (None, 32, 32, 512)  0           batch_normalization_17[0][0]     \n",
      "__________________________________________________________________________________________________\n",
      "conv2d_18 (Conv2D)              (None, 32, 32, 512)  2359808     activation_17[0][0]              \n",
      "__________________________________________________________________________________________________\n",
      "batch_normalization_18 (BatchNo (None, 32, 32, 512)  2048        conv2d_18[0][0]                  \n",
      "__________________________________________________________________________________________________\n",
      "activation_18 (Activation)      (None, 32, 32, 512)  0           batch_normalization_18[0][0]     \n",
      "__________________________________________________________________________________________________\n",
      "conv2d_19 (Conv2D)              (None, 32, 32, 256)  1179904     activation_18[0][0]              \n",
      "__________________________________________________________________________________________________\n",
      "batch_normalization_19 (BatchNo (None, 32, 32, 256)  1024        conv2d_19[0][0]                  \n",
      "__________________________________________________________________________________________________\n",
      "activation_19 (Activation)      (None, 32, 32, 256)  0           batch_normalization_19[0][0]     \n",
      "__________________________________________________________________________________________________\n",
      "max_unpooling2d_3 (MaxUnpooling (None, 64, 64, 256)  0           activation_19[0][0]              \n",
      "                                                                 max_pooling_with_argmax2d_3[0][1]\n",
      "__________________________________________________________________________________________________\n",
      "conv2d_20 (Conv2D)              (None, 64, 64, 256)  590080      max_unpooling2d_3[0][0]          \n",
      "__________________________________________________________________________________________________\n",
      "batch_normalization_20 (BatchNo (None, 64, 64, 256)  1024        conv2d_20[0][0]                  \n",
      "__________________________________________________________________________________________________\n",
      "activation_20 (Activation)      (None, 64, 64, 256)  0           batch_normalization_20[0][0]     \n",
      "__________________________________________________________________________________________________\n",
      "conv2d_21 (Conv2D)              (None, 64, 64, 256)  590080      activation_20[0][0]              \n",
      "__________________________________________________________________________________________________\n",
      "batch_normalization_21 (BatchNo (None, 64, 64, 256)  1024        conv2d_21[0][0]                  \n",
      "__________________________________________________________________________________________________\n",
      "activation_21 (Activation)      (None, 64, 64, 256)  0           batch_normalization_21[0][0]     \n",
      "__________________________________________________________________________________________________\n",
      "conv2d_22 (Conv2D)              (None, 64, 64, 128)  295040      activation_21[0][0]              \n",
      "__________________________________________________________________________________________________\n",
      "batch_normalization_22 (BatchNo (None, 64, 64, 128)  512         conv2d_22[0][0]                  \n",
      "__________________________________________________________________________________________________\n",
      "activation_22 (Activation)      (None, 64, 64, 128)  0           batch_normalization_22[0][0]     \n",
      "__________________________________________________________________________________________________\n",
      "max_unpooling2d_4 (MaxUnpooling (None, 128, 128, 128 0           activation_22[0][0]              \n",
      "                                                                 max_pooling_with_argmax2d_2[0][1]\n",
      "__________________________________________________________________________________________________\n",
      "conv2d_23 (Conv2D)              (None, 128, 128, 128 147584      max_unpooling2d_4[0][0]          \n",
      "__________________________________________________________________________________________________\n",
      "batch_normalization_23 (BatchNo (None, 128, 128, 128 512         conv2d_23[0][0]                  \n",
      "__________________________________________________________________________________________________\n",
      "activation_23 (Activation)      (None, 128, 128, 128 0           batch_normalization_23[0][0]     \n",
      "__________________________________________________________________________________________________\n",
      "conv2d_24 (Conv2D)              (None, 128, 128, 64) 73792       activation_23[0][0]              \n",
      "__________________________________________________________________________________________________\n",
      "batch_normalization_24 (BatchNo (None, 128, 128, 64) 256         conv2d_24[0][0]                  \n",
      "__________________________________________________________________________________________________\n",
      "activation_24 (Activation)      (None, 128, 128, 64) 0           batch_normalization_24[0][0]     \n",
      "__________________________________________________________________________________________________\n",
      "max_unpooling2d_5 (MaxUnpooling (None, 256, 256, 64) 0           activation_24[0][0]              \n",
      "                                                                 max_pooling_with_argmax2d_1[0][1]\n",
      "__________________________________________________________________________________________________\n",
      "conv2d_25 (Conv2D)              (None, 256, 256, 64) 36928       max_unpooling2d_5[0][0]          \n",
      "__________________________________________________________________________________________________\n",
      "batch_normalization_25 (BatchNo (None, 256, 256, 64) 256         conv2d_25[0][0]                  \n",
      "__________________________________________________________________________________________________\n",
      "activation_25 (Activation)      (None, 256, 256, 64) 0           batch_normalization_25[0][0]     \n",
      "__________________________________________________________________________________________________\n",
      "conv2d_26 (Conv2D)              (None, 256, 256, 2)  130         activation_25[0][0]              \n",
      "__________________________________________________________________________________________________\n",
      "batch_normalization_26 (BatchNo (None, 256, 256, 2)  8           conv2d_26[0][0]                  \n",
      "__________________________________________________________________________________________________\n",
      "reshape_1 (Reshape)             (None, 65536, 2)     0           batch_normalization_26[0][0]     \n",
      "__________________________________________________________________________________________________\n",
      "activation_26 (Activation)      (None, 65536, 2)     0           reshape_1[0][0]                  \n",
      "==================================================================================================\n",
      "Total params: 29,457,866\n",
      "Trainable params: 29,441,990\n",
      "Non-trainable params: 15,876\n",
      "__________________________________________________________________________________________________\n",
      "None\n"
     ]
    }
   ],
   "source": [
    "print(autoencoder.summary())"
   ]
  },
  {
   "cell_type": "code",
   "execution_count": 13,
   "metadata": {
    "colab": {
     "base_uri": "https://localhost:8080/",
     "height": 574
    },
    "colab_type": "code",
    "executionInfo": {
     "elapsed": 1898097,
     "status": "ok",
     "timestamp": 1559096681693,
     "user": {
      "displayName": "Icarus Icarus",
      "photoUrl": "https://lh4.googleusercontent.com/-NPcHnnI5ZgE/AAAAAAAAAAI/AAAAAAAAABY/o6lhfXd-390/s64/photo.jpg",
      "userId": "01984553358596838355"
     },
     "user_tz": -480
    },
    "id": "gyLwo9JARpxo",
    "outputId": "80d9eb42-3931-4146-e114-7a95bbf16aa3"
   },
   "outputs": [
    {
     "name": "stdout",
     "output_type": "stream",
     "text": [
      "WARNING:tensorflow:From /usr/local/lib/python3.6/dist-packages/tensorflow/python/framework/op_def_library.py:263: colocate_with (from tensorflow.python.framework.ops) is deprecated and will be removed in a future version.\n",
      "Instructions for updating:\n",
      "Colocations handled automatically by placer.\n",
      "Build enceder done..\n",
      "Build decoder done..\n",
      "WARNING:tensorflow:From /usr/local/lib/python3.6/dist-packages/tensorflow/python/ops/math_ops.py:3066: to_int32 (from tensorflow.python.ops.math_ops) is deprecated and will be removed in a future version.\n",
      "Instructions for updating:\n",
      "Use tf.cast instead.\n",
      "WARNING:tensorflow:From /usr/local/lib/python3.6/dist-packages/tensorflow/python/ops/math_grad.py:102: div (from tensorflow.python.ops.math_ops) is deprecated and will be removed in a future version.\n",
      "Instructions for updating:\n",
      "Deprecated in favor of operator or tf.math.divide.\n",
      "Epoch 1/10\n",
      "2292/2292 [==============================] - 198s 87ms/step - loss: 0.4900 - acc: 0.9015 - dice: 3.1488\n",
      "Epoch 2/10\n",
      "2292/2292 [==============================] - 182s 80ms/step - loss: 0.3148 - acc: 0.9685 - dice: 1.0059\n",
      "Epoch 3/10\n",
      "2292/2292 [==============================] - 182s 79ms/step - loss: 0.2289 - acc: 0.9760 - dice: 0.7688\n",
      "Epoch 4/10\n",
      "2292/2292 [==============================] - 183s 80ms/step - loss: 0.1662 - acc: 0.9815 - dice: 0.5916\n",
      "Epoch 5/10\n",
      "2292/2292 [==============================] - 182s 79ms/step - loss: 0.1271 - acc: 0.9831 - dice: 0.5380\n",
      "Epoch 6/10\n",
      "2292/2292 [==============================] - 183s 80ms/step - loss: 0.1049 - acc: 0.9828 - dice: 0.5493\n",
      "Epoch 7/10\n",
      "2292/2292 [==============================] - 182s 79ms/step - loss: 0.0807 - acc: 0.9859 - dice: 0.4504\n",
      "Epoch 8/10\n",
      "2292/2292 [==============================] - 183s 80ms/step - loss: 0.0621 - acc: 0.9882 - dice: 0.3771\n",
      "Epoch 9/10\n",
      "2292/2292 [==============================] - 182s 80ms/step - loss: 0.0486 - acc: 0.9899 - dice: 0.3216\n",
      "Epoch 10/10\n",
      "2292/2292 [==============================] - 182s 79ms/step - loss: 0.0430 - acc: 0.9896 - dice: 0.3333\n",
      "200/200 [==============================] - 15s 77ms/step\n"
     ]
    }
   ],
   "source": [
    "autoencoder = segnet((256,256,1),2,3, (2,2),\"softmax\")\n",
    "#autoencoder.load_weights('gdrive/My Drive/Python/SegNet/model_5l_v2_ADAM_weight_ep10.hdf5')\n",
    "\n",
    "#optimizer = SGD(lr = 0.001,momentum = 0.9,decay = 0.0005,nesterov = False)\n",
    "optimizer = keras.optimizers.Adam(lr=0.001, beta_1=0.9, beta_2=0.999, epsilon=None, decay=0.0, amsgrad=False)\n",
    "autoencoder.compile(loss = 'categorical_crossentropy',optimizer = \"adadelta\",metrics = ['accuracy',dice])\n",
    "\n",
    "nb_epoch = 10\n",
    "batch_size = 16\n",
    "history = autoencoder.fit(train_img,train_label,batch_size = batch_size,\n",
    "                          shuffle = True,epochs = nb_epoch,verbose = 1)\n",
    "\n",
    "output = autoencoder.predict(test_img,verbose = 1)\n",
    "output = output.reshape((output.shape[0],img_h,img_w,-1))\n",
    "for i in range(200):\n",
    "    save_img(output[i],'gdrive/My Drive/Python/SegNet/results/model_5l_v2_adadelta_weight_ep10/'+str(i)+'.png')\n",
    "\n",
    "autoencoder.save_weights('gdrive/My Drive/Python/SegNet/results/model_5l_v2_adadelta_weight_ep10/model_5l_v2_adadelta_weight_ep10.hdf5')"
   ]
  },
  {
   "cell_type": "code",
   "execution_count": 14,
   "metadata": {
    "colab": {
     "base_uri": "https://localhost:8080/",
     "height": 235
    },
    "colab_type": "code",
    "executionInfo": {
     "elapsed": 707478,
     "status": "ok",
     "timestamp": 1559097634866,
     "user": {
      "displayName": "Icarus Icarus",
      "photoUrl": "https://lh4.googleusercontent.com/-NPcHnnI5ZgE/AAAAAAAAAAI/AAAAAAAAABY/o6lhfXd-390/s64/photo.jpg",
      "userId": "01984553358596838355"
     },
     "user_tz": -480
    },
    "id": "Bb2JuQlh4H0u",
    "outputId": "73c0f19e-ee4e-4128-f392-0b078d4c229b"
   },
   "outputs": [
    {
     "name": "stdout",
     "output_type": "stream",
     "text": [
      "Build enceder done..\n",
      "Build decoder done..\n",
      "Epoch 1/5\n",
      "2292/2292 [==============================] - 189s 82ms/step - loss: 0.4775 - acc: 0.9398 - dice: 1.9240\n",
      "Epoch 2/5\n",
      "2292/2292 [==============================] - 183s 80ms/step - loss: 0.3496 - acc: 0.9617 - dice: 1.2255\n",
      "Epoch 3/5\n",
      "2292/2292 [==============================] - 183s 80ms/step - loss: 0.2799 - acc: 0.9691 - dice: 0.9878\n",
      "Epoch 4/5\n",
      "2292/2292 [==============================] - 183s 80ms/step - loss: 0.2247 - acc: 0.9753 - dice: 0.7896\n",
      "Epoch 5/5\n",
      "2292/2292 [==============================] - 182s 80ms/step - loss: 0.1881 - acc: 0.9778 - dice: 0.7078\n",
      "200/200 [==============================] - 11s 53ms/step\n"
     ]
    }
   ],
   "source": [
    "autoencoder = segnet((256,256,1),2,3, (2,2),\"softmax\")\n",
    "#autoencoder.load_weights('gdrive/My Drive/Python/SegNet/model_5l_v2_ADAM_weight_ep10.hdf5')\n",
    "\n",
    "#optimizer = SGD(lr = 0.001,momentum = 0.9,decay = 0.0005,nesterov = False)\n",
    "optimizer = keras.optimizers.Adam(lr=0.001, beta_1=0.9, beta_2=0.999, epsilon=None, decay=0.0, amsgrad=False)\n",
    "autoencoder.compile(loss = 'categorical_crossentropy',optimizer = optimizer,metrics = ['accuracy',dice])\n",
    "\n",
    "nb_epoch = 5\n",
    "batch_size = 16\n",
    "history = autoencoder.fit(train_img,train_label,batch_size = batch_size,\n",
    "                          shuffle = True,epochs = nb_epoch,verbose = 1)\n",
    "\n",
    "output = autoencoder.predict(test_img,verbose = 1)\n",
    "output = output.reshape((output.shape[0],img_h,img_w,-1))\n",
    "for i in range(200):\n",
    "    save_img(output[i],'gdrive/My Drive/Python/SegNet/results/model_5l_v2_ADAM_weight_ep5/'+str(i)+'.png')\n",
    "\n",
    "autoencoder.save_weights('gdrive/My Drive/Python/SegNet/results/model_5l_v2_ADAM_weight_ep5/model_5l_v2_ADAM_weight_ep5.hdf5')"
   ]
  },
  {
   "cell_type": "code",
   "execution_count": 15,
   "metadata": {
    "colab": {
     "base_uri": "https://localhost:8080/",
     "height": 403
    },
    "colab_type": "code",
    "executionInfo": {
     "elapsed": 1887963,
     "status": "ok",
     "timestamp": 1559099522825,
     "user": {
      "displayName": "Icarus Icarus",
      "photoUrl": "https://lh4.googleusercontent.com/-NPcHnnI5ZgE/AAAAAAAAAAI/AAAAAAAAABY/o6lhfXd-390/s64/photo.jpg",
      "userId": "01984553358596838355"
     },
     "user_tz": -480
    },
    "id": "2r6fv0Ht4Nib",
    "outputId": "caf6698d-e311-42a8-e3c6-f5b6b6f04c05"
   },
   "outputs": [
    {
     "name": "stdout",
     "output_type": "stream",
     "text": [
      "Build enceder done..\n",
      "Build decoder done..\n",
      "Epoch 1/10\n",
      "2292/2292 [==============================] - 190s 83ms/step - loss: 0.4758 - acc: 0.9395 - dice: 1.9342\n",
      "Epoch 2/10\n",
      "2292/2292 [==============================] - 183s 80ms/step - loss: 0.3489 - acc: 0.9631 - dice: 1.1805\n",
      "Epoch 3/10\n",
      "2292/2292 [==============================] - 183s 80ms/step - loss: 0.2817 - acc: 0.9696 - dice: 0.9728\n",
      "Epoch 4/10\n",
      "2292/2292 [==============================] - 183s 80ms/step - loss: 0.2286 - acc: 0.9739 - dice: 0.8341\n",
      "Epoch 5/10\n",
      "2292/2292 [==============================] - 182s 80ms/step - loss: 0.1924 - acc: 0.9767 - dice: 0.7451\n",
      "Epoch 6/10\n",
      "2292/2292 [==============================] - 183s 80ms/step - loss: 0.1581 - acc: 0.9808 - dice: 0.6124\n",
      "Epoch 7/10\n",
      "2292/2292 [==============================] - 183s 80ms/step - loss: 0.1393 - acc: 0.9814 - dice: 0.5933\n",
      "Epoch 8/10\n",
      "2292/2292 [==============================] - 182s 79ms/step - loss: 0.1224 - acc: 0.9825 - dice: 0.5607\n",
      "Epoch 9/10\n",
      "2292/2292 [==============================] - 183s 80ms/step - loss: 0.1080 - acc: 0.9837 - dice: 0.5195\n",
      "Epoch 10/10\n",
      "2292/2292 [==============================] - 183s 80ms/step - loss: 0.1008 - acc: 0.9832 - dice: 0.5363\n",
      "200/200 [==============================] - 11s 55ms/step\n"
     ]
    }
   ],
   "source": [
    "autoencoder = segnet((256,256,1),2,3, (2,2),\"softmax\")\n",
    "#autoencoder.load_weights('gdrive/My Drive/Python/SegNet/model_5l_v2_ADAM_weight_ep10.hdf5')\n",
    "\n",
    "#optimizer = SGD(lr = 0.001,momentum = 0.9,decay = 0.0005,nesterov = False)\n",
    "optimizer = keras.optimizers.Adam(lr=0.001, beta_1=0.9, beta_2=0.999, epsilon=None, decay=0.0, amsgrad=False)\n",
    "autoencoder.compile(loss = 'categorical_crossentropy',optimizer = optimizer,metrics = ['accuracy',dice])\n",
    "\n",
    "nb_epoch = 10\n",
    "batch_size = 16\n",
    "history = autoencoder.fit(train_img,train_label,batch_size = batch_size,\n",
    "                          shuffle = True,epochs = nb_epoch,verbose = 1)\n",
    "\n",
    "output = autoencoder.predict(test_img,verbose = 1)\n",
    "output = output.reshape((output.shape[0],img_h,img_w,-1))\n",
    "for i in range(200):\n",
    "    save_img(output[i],'gdrive/My Drive/Python/SegNet/results/model_5l_v2_ADAM_weight_ep10/'+str(i)+'.png')\n",
    "\n",
    "autoencoder.save_weights('gdrive/My Drive/Python/SegNet/results/model_5l_v2_ADAM_weight_ep10/model_5l_v2_ADAM_weight_ep10.hdf5')"
   ]
  },
  {
   "cell_type": "code",
   "execution_count": 0,
   "metadata": {
    "colab": {},
    "colab_type": "code",
    "id": "dMOST59J509D"
   },
   "outputs": [],
   "source": []
  }
 ],
 "metadata": {
  "accelerator": "GPU",
  "colab": {
   "collapsed_sections": [],
   "name": "main.ipynb",
   "provenance": [],
   "version": "0.3.2"
  },
  "kernelspec": {
   "display_name": "Python 3",
   "language": "python",
   "name": "python3"
  },
  "language_info": {
   "codemirror_mode": {
    "name": "ipython",
    "version": 3
   },
   "file_extension": ".py",
   "mimetype": "text/x-python",
   "name": "python",
   "nbconvert_exporter": "python",
   "pygments_lexer": "ipython3",
   "version": "3.6.4"
  }
 },
 "nbformat": 4,
 "nbformat_minor": 1
}
