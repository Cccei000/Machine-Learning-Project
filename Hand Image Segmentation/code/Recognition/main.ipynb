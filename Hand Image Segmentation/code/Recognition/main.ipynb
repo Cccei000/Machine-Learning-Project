{
 "cells": [
  {
   "cell_type": "code",
   "execution_count": 3,
   "metadata": {},
   "outputs": [],
   "source": [
    "import numpy as np\n",
    "import shutil,os\n",
    "import matplotlib.pyplot as plt\n",
    "from sklearn.neighbors import KNeighborsClassifier as KNN\n",
    "from sklearn.metrics import classification_report\n",
    "from pylab import interp\n",
    "import random"
   ]
  },
  {
   "cell_type": "code",
   "execution_count": 14,
   "metadata": {},
   "outputs": [],
   "source": [
    "def show_img(img,bins_):\n",
    "    fig = plt.figure()\n",
    "    ax1 = fig.add_subplot(121)\n",
    "    ax1.hist(img,bins = bins_,histtype='bar',rwidth=0.8)\n",
    "    ax2 = fig.add_subplot(122)\n",
    "    ax2.imshow(img.reshape(80,-1),cmap='gray')\n",
    "    plt.show()"
   ]
  },
  {
   "cell_type": "code",
   "execution_count": 15,
   "metadata": {},
   "outputs": [],
   "source": [
    "def histeq(img,nbr_bins):\n",
    "    imhist,bins = np.histogram(img*(nbr_bins-1),nbr_bins,normed= True)\n",
    "    cdf = imhist.cumsum()\n",
    "    cdf = (nbr_bins-1)*cdf/cdf[-1]\n",
    "    img2 = interp(img*(nbr_bins-1),bins[:-1],cdf)\n",
    "    return img2/(nbr_bins-1)"
   ]
  },
  {
   "cell_type": "code",
   "execution_count": 2,
   "metadata": {},
   "outputs": [],
   "source": [
    "train_img = np.fromfile('data/processed/train_img',dtype = 'float64')\n",
    "train_img = train_img.reshape(-1,6400)\n",
    "train_label = np.fromfile('data/processed/train_label',dtype = 'int32')\n",
    "test_img = np.fromfile('data/processed/test_img',dtype = 'float64')\n",
    "test_img = test_img.reshape(-1,6400)\n",
    "testdir = 'data/raw/test'\n",
    "testlist = os.listdir(testdir)"
   ]
  },
  {
   "cell_type": "code",
   "execution_count": 86,
   "metadata": {},
   "outputs": [],
   "source": [
    "gamma = 0.75\n",
    "val_idx = np.array(random.sample(range(4384),200))\n",
    "train_idx = np.setdiff1d(np.arange(4384),val_idx)"
   ]
  },
  {
   "cell_type": "code",
   "execution_count": 92,
   "metadata": {},
   "outputs": [
    {
     "name": "stdout",
     "output_type": "stream",
     "text": [
      "             precision    recall  f1-score   support\n",
      "\n",
      "          0    0.77966   0.93878   0.85185        49\n",
      "          1    0.97872   0.91391   0.94521       151\n",
      "\n",
      "avg / total    0.92995   0.92000   0.92233       200\n",
      "\n"
     ]
    }
   ],
   "source": [
    "knn = KNN(n_neighbors = 5,weights = 'uniform',n_jobs = -1)\n",
    "knn.fit(train_img[train_idx]**gamma,train_label[train_idx])\n",
    "result = knn.predict(train_img[val_idx]**gamma)\n",
    "print(classification_report(train_label[val_idx],result,digits = 5))"
   ]
  },
  {
   "cell_type": "code",
   "execution_count": 93,
   "metadata": {},
   "outputs": [],
   "source": [
    "trainset = histeq(train_img,256)"
   ]
  },
  {
   "cell_type": "code",
   "execution_count": 107,
   "metadata": {},
   "outputs": [],
   "source": [
    "val_idx = np.array(random.sample(range(4384),200))\n",
    "train_idx = np.setdiff1d(np.arange(4384),val_idx)"
   ]
  },
  {
   "cell_type": "code",
   "execution_count": 117,
   "metadata": {},
   "outputs": [
    {
     "name": "stdout",
     "output_type": "stream",
     "text": [
      "             precision    recall  f1-score   support\n",
      "\n",
      "          0    0.90196   0.88462   0.89320        52\n",
      "          1    0.95973   0.96622   0.96296       148\n",
      "\n",
      "avg / total    0.94471   0.94500   0.94483       200\n",
      "\n"
     ]
    }
   ],
   "source": [
    "knn = KNN(n_neighbors = 5,weights = 'uniform',n_jobs = -1)\n",
    "knn.fit(trainset[train_idx],train_label[train_idx])\n",
    "result = knn.predict(trainset[val_idx])\n",
    "print(classification_report(train_label[val_idx],result,digits = 5))"
   ]
  },
  {
   "cell_type": "code",
   "execution_count": 118,
   "metadata": {},
   "outputs": [],
   "source": [
    "testset = histeq(test_img,256)"
   ]
  },
  {
   "cell_type": "code",
   "execution_count": 154,
   "metadata": {},
   "outputs": [],
   "source": [
    "knn = KNN(n_neighbors = 5,weights = 'uniform',n_jobs = -1)\n",
    "knn.fit(train_img**1.25,train_label)\n",
    "result = knn.predict(test_img**1.25)"
   ]
  },
  {
   "cell_type": "code",
   "execution_count": 155,
   "metadata": {},
   "outputs": [],
   "source": [
    "for i in range(len(result)):\n",
    "    if result[i] == 0:\n",
    "        shutil.copy(testdir+'/'+testlist[i],'data/0')\n",
    "    else:\n",
    "        shutil.copy(testdir+'/'+testlist[i],'data/1')"
   ]
  },
  {
   "cell_type": "code",
   "execution_count": 156,
   "metadata": {},
   "outputs": [],
   "source": [
    "lines = [testlist[i]+'    '+str(result[i])+'\\n' for i in range(200)]\n",
    "with open('results.txt','w') as file:\n",
    "    file.writelines(lines)"
   ]
  }
 ],
 "metadata": {
  "kernelspec": {
   "display_name": "Python 3",
   "language": "python",
   "name": "python3"
  },
  "language_info": {
   "codemirror_mode": {
    "name": "ipython",
    "version": 3
   },
   "file_extension": ".py",
   "mimetype": "text/x-python",
   "name": "python",
   "nbconvert_exporter": "python",
   "pygments_lexer": "ipython3",
   "version": "3.6.4"
  }
 },
 "nbformat": 4,
 "nbformat_minor": 2
}
