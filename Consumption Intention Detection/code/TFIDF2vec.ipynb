{
 "cells": [
  {
   "cell_type": "code",
   "execution_count": null,
   "metadata": {},
   "outputs": [],
   "source": [
    "from gensim.models import word2vec\n",
    "from sklearn.linear_model import LogisticRegression\n",
    "from sklearn.metrics import classification_report\n",
    "from sklearn.feature_extraction.text import TfidfTransformer\n",
    "from sklearn.feature_extraction.text import CountVectorizer\n",
    "import numpy as np\n",
    "import pickle"
   ]
  },
  {
   "cell_type": "code",
   "execution_count": null,
   "metadata": {},
   "outputs": [],
   "source": [
    "from utils.preprocess import Preprocess\n",
    "from utils.loader import load_data"
   ]
  },
  {
   "cell_type": "code",
   "execution_count": null,
   "metadata": {},
   "outputs": [],
   "source": [
    "movie_path = ['movie_train','movie_val','movie_test']\n",
    "flight_path = ['flight_train','flight_val','flight_test']\n",
    "laptop_path = ['laptop_train','laptop_val','laptop_test']\n",
    "\n",
    "Preprocess(moive_path)\n",
    "\n",
    "movie = load_data(movie_path)"
   ]
  },
  {
   "cell_type": "code",
   "execution_count": null,
   "metadata": {},
   "outputs": [],
   "source": [
    "vectorizer = CountVectorizer(token_pattern = r\"\\w+\",min_df = 10,lowercase = False)\n",
    "vectorized_train = vectorizer.fit_transform(movie.train.data)\n",
    "dictionary = vectorizer.get_feature_names()"
   ]
  },
  {
   "cell_type": "markdown",
   "metadata": {},
   "source": [
    "### 1.word2vec"
   ]
  },
  {
   "cell_type": "code",
   "execution_count": null,
   "metadata": {},
   "outputs": [],
   "source": [
    "w2v = word2vec.Word2Vec([line.split() for line in movie.train.data],\n",
    "                        size = 50,window = 5,min_count = 10,workers = 8)"
   ]
  },
  {
   "cell_type": "code",
   "execution_count": null,
   "metadata": {},
   "outputs": [],
   "source": [
    "def get_vec(src,size):\n",
    "    vec = []\n",
    "    for line in src:\n",
    "        tmp = np.zeros(size)\n",
    "        for word in line.split():\n",
    "            if word in dictionary:\n",
    "                tmp += w2v.wv[word]\n",
    "        vec.append(tmp*100)\n",
    "    vec = np.array(vec)\n",
    "    return vec\n",
    "\n",
    "vec_train = get_vec(movie.train.data,50)\n",
    "vec_val = get_vec(movie.val.data,50)\n",
    "vec_test = get_vec(movie.test.data,50)"
   ]
  },
  {
   "cell_type": "code",
   "execution_count": null,
   "metadata": {},
   "outputs": [],
   "source": [
    "logistic = LogisticRegression(max_iter = 1,solver='saga',warm_start = True)\n",
    "for epoch in range(500):\n",
    "    logistic.fit(vec_train,np.array(movie.train.labels))\n",
    "    pred_val = logistic.predict(vec_val)\n",
    "    if (1+epoch)%50 == 0:\n",
    "        print(sum(pred_val == movie.val.labels)/len(movie.val.labels))"
   ]
  },
  {
   "cell_type": "code",
   "execution_count": null,
   "metadata": {},
   "outputs": [],
   "source": [
    "pred_test = logistic.predict(vec_test)\n",
    "print(classification_report(movie.test.labels,pred_test,digits = 5))"
   ]
  },
  {
   "cell_type": "markdown",
   "metadata": {},
   "source": [
    "### 2.TF-IDF"
   ]
  },
  {
   "cell_type": "code",
   "execution_count": null,
   "metadata": {},
   "outputs": [],
   "source": [
    "transformer = TfidfTransformer()\n",
    "tfidf_train = transformer.fit_transform(vectorized_train).toarray()\n",
    "tfidf_val = transformer.transform(vectorizer.transform(movie.val.data)).toarray()\n",
    "tfidf_test = transformer.transform(vectorizer.transform(movie.test.data)).toarray()"
   ]
  },
  {
   "cell_type": "code",
   "execution_count": null,
   "metadata": {},
   "outputs": [],
   "source": [
    "logistic = LogisticRegression(max_iter = 1,solver='saga',warm_start = True)\n",
    "for epoch in range(500):\n",
    "    logistic.fit(tfidf_train,np.array(movie.train.labels))\n",
    "    pred_val = logistic.predict(tfidf_val)\n",
    "    if (1+epoch)%50 == 0:\n",
    "        print(sum(pred_val == movie.val.labels)/len(movie.val.labels))"
   ]
  },
  {
   "cell_type": "code",
   "execution_count": null,
   "metadata": {},
   "outputs": [],
   "source": [
    "pred_test = logistic.predict(tfidf_test)\n",
    "print(classification_report(movie.test.labels,pred_test,digits = 5))"
   ]
  },
  {
   "cell_type": "markdown",
   "metadata": {},
   "source": [
    "### 3.TFIDF2vec"
   ]
  },
  {
   "cell_type": "code",
   "execution_count": null,
   "metadata": {},
   "outputs": [],
   "source": [
    "transformer = TfidfTransformer(norm = None)\n",
    "tfidf_train = transformer.fit_transform(vectorized_train).toarray()\n",
    "tfidf_val = transformer.transform(vectorizer.transform(movie.val.data)).toarray()\n",
    "tfidf_test = transformer.transform(vectorizer.transform(movie.test.data)).toarray()"
   ]
  },
  {
   "cell_type": "code",
   "execution_count": null,
   "metadata": {},
   "outputs": [],
   "source": [
    "def get_tfidf_vec(src,size):\n",
    "    vec = []\n",
    "    for line in src:\n",
    "        tmp = np.zeros(size)\n",
    "        support = np.nonzero(line)[0]\n",
    "        for i in support:\n",
    "            tmp += line[i]*w2v.wv[dictionary[i]]\n",
    "        vec.append(tmp)\n",
    "    vec = np.array(vec)\n",
    "    return vec\n",
    "\n",
    "tfidf_vec_train = get_tfidf_vec(tfidf_train,50)\n",
    "tfidf_vec_val = get_tfidf_vec(tfidf_val,50)\n",
    "tfidf_vec_test = get_tfidf_vec(tfidf_test,50)"
   ]
  },
  {
   "cell_type": "code",
   "execution_count": null,
   "metadata": {},
   "outputs": [],
   "source": [
    "logistic = LogisticRegression(max_iter = 1,solver='saga',warm_start = True)\n",
    "for epoch in range(500):\n",
    "    logistic.fit(tfidf_vec_train,np.array(movie.train.labels))\n",
    "    pred_val = logistic.predict(tfidf_vec_val)\n",
    "    if (1+epoch)%50 == 0:\n",
    "        print(sum(pred_val == movie.val.labels)/len(movie.val.labels))"
   ]
  },
  {
   "cell_type": "code",
   "execution_count": null,
   "metadata": {},
   "outputs": [],
   "source": [
    "pred_test = logistic.predict(tfidf_vec_test)\n",
    "print(classification_report(movie.test.labels,pred_test,digits = 5))"
   ]
  }
 ],
 "metadata": {
  "kernelspec": {
   "display_name": "Python 3",
   "language": "python",
   "name": "python3"
  },
  "language_info": {
   "codemirror_mode": {
    "name": "ipython",
    "version": 3
   },
   "file_extension": ".py",
   "mimetype": "text/x-python",
   "name": "python",
   "nbconvert_exporter": "python",
   "pygments_lexer": "ipython3",
   "version": "3.6.4"
  }
 },
 "nbformat": 4,
 "nbformat_minor": 2
}
